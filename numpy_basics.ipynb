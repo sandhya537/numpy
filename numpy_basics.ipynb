{
  "nbformat": 4,
  "nbformat_minor": 0,
  "metadata": {
    "colab": {
      "provenance": [],
      "authorship_tag": "ABX9TyOdWGrmSTc/m2oAf7jniKzO",
      "include_colab_link": true
    },
    "kernelspec": {
      "name": "python3",
      "display_name": "Python 3"
    },
    "language_info": {
      "name": "python"
    }
  },
  "cells": [
    {
      "cell_type": "markdown",
      "metadata": {
        "id": "view-in-github",
        "colab_type": "text"
      },
      "source": [
        "<a href=\"https://colab.research.google.com/github/sandhya537/numpy/blob/main/numpy_basics.ipynb\" target=\"_parent\"><img src=\"https://colab.research.google.com/assets/colab-badge.svg\" alt=\"Open In Colab\"/></a>"
      ]
    },
    {
      "cell_type": "code",
      "execution_count": 2,
      "metadata": {
        "colab": {
          "base_uri": "https://localhost:8080/"
        },
        "id": "RRZyIEGMQxwI",
        "outputId": "8dfc0a59-f3ce-47ac-fd94-7ee870c18305"
      },
      "outputs": [
        {
          "output_type": "stream",
          "name": "stdout",
          "text": [
            "[[ 8 14 16]]\n"
          ]
        }
      ],
      "source": [
        "import numpy as np\n",
        "a=[[3,8,9]]\n",
        "b=[[5,6,7]]\n",
        "c=np.array(a)\n",
        "d=np.array(b)\n",
        "print(np.add(a,b))"
      ]
    }
  ]
}