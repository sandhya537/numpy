{
  "nbformat": 4,
  "nbformat_minor": 0,
  "metadata": {
    "colab": {
      "provenance": [],
      "authorship_tag": "ABX9TyP1CXJvniav1NjgZWhMp6v8",
      "include_colab_link": true
    },
    "kernelspec": {
      "name": "python3",
      "display_name": "Python 3"
    },
    "language_info": {
      "name": "python"
    }
  },
  "cells": [
    {
      "cell_type": "markdown",
      "metadata": {
        "id": "view-in-github",
        "colab_type": "text"
      },
      "source": [
        "<a href=\"https://colab.research.google.com/github/sandhya537/numpy/blob/main/numpy_methods_practicing_2.ipynb\" target=\"_parent\"><img src=\"https://colab.research.google.com/assets/colab-badge.svg\" alt=\"Open In Colab\"/></a>"
      ]
    },
    {
      "cell_type": "code",
      "execution_count": null,
      "metadata": {
        "colab": {
          "base_uri": "https://localhost:8080/"
        },
        "id": "Lv1UdC_aUauh",
        "outputId": "afa0bcd6-0525-490c-dca6-0f7d848ddd41"
      },
      "outputs": [
        {
          "output_type": "stream",
          "name": "stdout",
          "text": [
            "output is:\n",
            "[[56 44 14]\n",
            " [65 97 78]]\n",
            "\n",
            "sorted data: [[14 44 56]\n",
            " [65 78 97]]\n"
          ]
        }
      ],
      "source": [
        "###------ sort() method -----##\n",
        "##---example 1\n",
        "\n",
        "import numpy as np\n",
        "data=np.array([[56,44,14],[65,97,78]])\n",
        "print(\"output is:\")\n",
        "print(data)\n",
        "data.sort()\n",
        "print()\n",
        "print(\"sorted data:\",data)"
      ]
    },
    {
      "cell_type": "code",
      "source": [
        "##---example 2\n",
        "import numpy as np\n",
        "data=np.array([[30,20,40],[60,10,50]])\n",
        "print(\"output is:\")\n",
        "print(data)\n",
        "print()\n",
        "print(\"sorted data:\",np.sort(data))\n"
      ],
      "metadata": {
        "colab": {
          "base_uri": "https://localhost:8080/"
        },
        "id": "kFBQQf7CU38l",
        "outputId": "ee433fc0-3d5e-4f65-b92f-a0e6a98841e6"
      },
      "execution_count": null,
      "outputs": [
        {
          "output_type": "stream",
          "name": "stdout",
          "text": [
            "output is:\n",
            "[[30 20 40]\n",
            " [60 10 50]]\n",
            "\n",
            "sorted data: [[20 30 40]\n",
            " [10 50 60]]\n"
          ]
        }
      ]
    },
    {
      "cell_type": "code",
      "source": [
        "##------flatten() method -----##\n",
        "##---example 1\n",
        "\n",
        "import numpy as np\n",
        "data=np.array([[56,44,14],[65,97,78]])\n",
        "print(\"output is:\")\n",
        "print(data)\n",
        "print()\n",
        "print(\"flatten data:\",data.flatten())"
      ],
      "metadata": {
        "colab": {
          "base_uri": "https://localhost:8080/"
        },
        "id": "LQ3w21LLk57E",
        "outputId": "d2e57c72-aef8-4752-9d11-969b29fa3f3c"
      },
      "execution_count": null,
      "outputs": [
        {
          "output_type": "stream",
          "name": "stdout",
          "text": [
            "output is:\n",
            "[[56 44 14]\n",
            " [65 97 78]]\n",
            "\n",
            "flatten data: [56 44 14 65 97 78]\n"
          ]
        }
      ]
    },
    {
      "cell_type": "code",
      "source": [
        "##---example 2\n",
        "import numpy as np\n",
        "data=np.array([[11,55,33],[66,99,77]])\n",
        "print(\"output is:\")\n",
        "print(data)\n",
        "print()\n",
        "print(\"flatten data:\",data.flatten())\n"
      ],
      "metadata": {
        "colab": {
          "base_uri": "https://localhost:8080/"
        },
        "id": "32BFPVytnqq5",
        "outputId": "74ce5bca-fc98-43d9-a944-142abfe4fa57"
      },
      "execution_count": null,
      "outputs": [
        {
          "output_type": "stream",
          "name": "stdout",
          "text": [
            "output is:\n",
            "[[11 55 33]\n",
            " [66 99 77]]\n",
            "\n",
            "flatten data: [11 55 33 66 99 77]\n"
          ]
        }
      ]
    },
    {
      "cell_type": "code",
      "source": [
        "##-----adding value to array ----##\n",
        "##---example 1\n",
        "\n",
        "import numpy as np\n",
        "data=np.array([[30,20,40],[60,10,50]])\n",
        "print(\"output is:\")\n",
        "print(data)\n",
        "print()\n",
        "print(\"adding to data:\",data+4)\n"
      ],
      "metadata": {
        "colab": {
          "base_uri": "https://localhost:8080/"
        },
        "id": "148bFefkoIhr",
        "outputId": "a068c100-2f21-4538-cabf-279e118cbf1e"
      },
      "execution_count": null,
      "outputs": [
        {
          "output_type": "stream",
          "name": "stdout",
          "text": [
            "output is:\n",
            "[[30 20 40]\n",
            " [60 10 50]]\n",
            "\n",
            "adding to data: [[34 24 44]\n",
            " [64 14 54]]\n"
          ]
        }
      ]
    },
    {
      "cell_type": "code",
      "source": [
        "##---example 1\n",
        "\n",
        "import numpy as np\n",
        "data=np.array([[35,20,45],[60,15,50]])\n",
        "print(\"output is:\")\n",
        "print(data)\n",
        "print()\n",
        "print(\"adding to data:\",data+5)"
      ],
      "metadata": {
        "colab": {
          "base_uri": "https://localhost:8080/"
        },
        "id": "kbGyMKhJpOIx",
        "outputId": "c7c7dcd8-dda3-48b4-9a2d-ef1002511879"
      },
      "execution_count": null,
      "outputs": [
        {
          "output_type": "stream",
          "name": "stdout",
          "text": [
            "output is:\n",
            "[[35 20 45]\n",
            " [60 15 50]]\n",
            "\n",
            "adding to data: [[40 25 50]\n",
            " [65 20 55]]\n"
          ]
        }
      ]
    },
    {
      "cell_type": "code",
      "source": [
        "##------- diagonal of matrix -----##\n",
        "## example 1\n",
        "import numpy as np\n",
        "matrix=np.array([[11,55,33],[66,99,77],[44,22,88]])\n",
        "print(\"output is:\")\n",
        "print(matrix)\n",
        "print()\n",
        "print(\" matrix diagonal:\",matrix.diagonal())"
      ],
      "metadata": {
        "colab": {
          "base_uri": "https://localhost:8080/"
        },
        "id": "-IMZpfT5pnfk",
        "outputId": "69109ed3-fc58-43a0-9792-173ae3a5fb34"
      },
      "execution_count": null,
      "outputs": [
        {
          "output_type": "stream",
          "name": "stdout",
          "text": [
            "output is:\n",
            "[[11 55 33]\n",
            " [66 99 77]\n",
            " [44 22 88]]\n",
            "\n",
            " matrix diagonal: [11 99 88]\n"
          ]
        }
      ]
    },
    {
      "cell_type": "code",
      "source": [
        "## example 2\n",
        "import numpy as np\n",
        "matrix=np.array([[10,50,30],[60,90,70],[40,20,80]])\n",
        "print(\"output is:\")\n",
        "print(matrix)\n",
        "print()\n",
        "print(\" matrix diagonal:\",matrix.diagonal())"
      ],
      "metadata": {
        "colab": {
          "base_uri": "https://localhost:8080/"
        },
        "id": "9eunIYOjp7bQ",
        "outputId": "321041fd-35f4-4694-9436-924b6e3ceb6e"
      },
      "execution_count": null,
      "outputs": [
        {
          "output_type": "stream",
          "name": "stdout",
          "text": [
            "output is:\n",
            "[[10 50 30]\n",
            " [60 90 70]\n",
            " [40 20 80]]\n",
            "\n",
            " matrix diagonal: [10 90 80]\n"
          ]
        }
      ]
    },
    {
      "cell_type": "code",
      "source": [
        "##------- trace of matrix -----##\n",
        "## example 1\n",
        "import numpy as np\n",
        "matrix=np.array([[11,55,33],[66,99,77],[44,22,88]])\n",
        "print(\"output is:\")\n",
        "print(matrix)\n",
        "print()\n",
        "print(\" matrix trace:\",matrix.trace())"
      ],
      "metadata": {
        "colab": {
          "base_uri": "https://localhost:8080/"
        },
        "id": "bv4wasxFrGJN",
        "outputId": "3c725f81-9b9c-4484-8c50-dae82978b29f"
      },
      "execution_count": null,
      "outputs": [
        {
          "output_type": "stream",
          "name": "stdout",
          "text": [
            "output is:\n",
            "[[11 55 33]\n",
            " [66 99 77]\n",
            " [44 22 88]]\n",
            "\n",
            " matrix trace: 198\n"
          ]
        }
      ]
    },
    {
      "cell_type": "code",
      "source": [
        "## example 2\n",
        "\n",
        "import numpy as np\n",
        "matrix=np.array([[1,2,3],[4,5,6],[7,8,9]])\n",
        "print(\"output is:\")\n",
        "print(matrix)\n",
        "print()\n",
        "print(\" matrix trace:\",matrix.trace())"
      ],
      "metadata": {
        "colab": {
          "base_uri": "https://localhost:8080/"
        },
        "id": "IL8292iargsE",
        "outputId": "ed0e05d8-c266-4500-aaed-d93103c23be3"
      },
      "execution_count": null,
      "outputs": [
        {
          "output_type": "stream",
          "name": "stdout",
          "text": [
            "output is:\n",
            "[[1 2 3]\n",
            " [4 5 6]\n",
            " [7 8 9]]\n",
            "\n",
            " matrix trace: 15\n"
          ]
        }
      ]
    },
    {
      "cell_type": "code",
      "source": [
        "##----adding two martces -- -----##\n",
        "## TYPE :1-----USING ADD() METHOD-\n",
        "import numpy as np\n",
        "A=np.array([[1,2,3],[4,5,6],[7,8,9]])\n",
        "B=np.array([[11,22,33],[34,45,65],[67,87,97]])\n",
        "print(\"A=\",A)\n",
        "print()\n",
        "print(\"B=\",B)\n",
        "print()\n",
        "print(\" using add() A+B=\",np.add(A,B))\n",
        "\n",
        "\n"
      ],
      "metadata": {
        "colab": {
          "base_uri": "https://localhost:8080/"
        },
        "id": "vTQqY-zSsQo3",
        "outputId": "bc0d1fc1-3962-4a17-8a39-a407d00c586b"
      },
      "execution_count": null,
      "outputs": [
        {
          "output_type": "stream",
          "name": "stdout",
          "text": [
            "A= [[1 2 3]\n",
            " [4 5 6]\n",
            " [7 8 9]]\n",
            "\n",
            "B= [[11 22 33]\n",
            " [34 45 65]\n",
            " [67 87 97]]\n",
            "\n",
            " using add() A+B= [[ 12  24  36]\n",
            " [ 38  50  71]\n",
            " [ 74  95 106]]\n"
          ]
        }
      ]
    },
    {
      "cell_type": "code",
      "source": [
        "## TYPE :2-----USING \"+\" --\n",
        "\n",
        "A=np.array([[1,2,3],[4,5,6],[7,8,9]])\n",
        "B=np.array([[11,22,33],[34,45,65],[67,87,97]])\n",
        "print(\"A=\",A)\n",
        "print()\n",
        "print(\"B=\",B)\n",
        "print()\n",
        "print(\" using '+' A+B=\",(A+B))\n",
        "\n"
      ],
      "metadata": {
        "colab": {
          "base_uri": "https://localhost:8080/"
        },
        "id": "iRex5zG8txIa",
        "outputId": "d34c7bb8-f821-4e39-ce6c-8ac062f9aea7"
      },
      "execution_count": null,
      "outputs": [
        {
          "output_type": "stream",
          "name": "stdout",
          "text": [
            "A= [[1 2 3]\n",
            " [4 5 6]\n",
            " [7 8 9]]\n",
            "\n",
            "B= [[11 22 33]\n",
            " [34 45 65]\n",
            " [67 87 97]]\n",
            "\n",
            " using '+' A+B= [[ 12  24  36]\n",
            " [ 38  50  71]\n",
            " [ 74  95 106]]\n"
          ]
        }
      ]
    },
    {
      "cell_type": "code",
      "source": [
        "##----subtracting two martces -- -----##\n",
        "## TYPE :1-----USING subtract() METHOD--\n",
        "\n",
        "A=np.array([[1,2,3],[4,5,6],[7,8,9]])\n",
        "B=np.array([[11,22,33],[34,45,65],[67,87,97]])\n",
        "print(\"A=\",A)\n",
        "print()\n",
        "print(\"B=\",B)\n",
        "print()\n",
        "print(\" using subtract() A-B=\",np.subtract(A,B))\n",
        "\n"
      ],
      "metadata": {
        "colab": {
          "base_uri": "https://localhost:8080/"
        },
        "id": "JjaP-L5bueow",
        "outputId": "476ab85d-b166-4626-a332-d47aa8c550bb"
      },
      "execution_count": null,
      "outputs": [
        {
          "output_type": "stream",
          "name": "stdout",
          "text": [
            "A= [[1 2 3]\n",
            " [4 5 6]\n",
            " [7 8 9]]\n",
            "\n",
            "B= [[11 22 33]\n",
            " [34 45 65]\n",
            " [67 87 97]]\n",
            "\n",
            " using subtract() A-B= [[-10 -20 -30]\n",
            " [-30 -40 -59]\n",
            " [-60 -79 -88]]\n"
          ]
        }
      ]
    },
    {
      "cell_type": "code",
      "source": [
        "## TYPE :2-----USING \" - \" --\n",
        "\n",
        "A=np.array([[1,2,3],[4,5,6],[7,8,9]])\n",
        "B=np.array([[11,22,33],[34,45,65],[67,87,97]])\n",
        "print(\"A=\",A)\n",
        "print()\n",
        "print(\"B=\",B)\n",
        "print()\n",
        "print(\" using '-' A-B=\",(A-B))\n"
      ],
      "metadata": {
        "colab": {
          "base_uri": "https://localhost:8080/"
        },
        "id": "IGzpE8h6vd9y",
        "outputId": "591972bb-366d-4c05-8f85-2d5fc1cc810b"
      },
      "execution_count": null,
      "outputs": [
        {
          "output_type": "stream",
          "name": "stdout",
          "text": [
            "A= [[1 2 3]\n",
            " [4 5 6]\n",
            " [7 8 9]]\n",
            "\n",
            "B= [[11 22 33]\n",
            " [34 45 65]\n",
            " [67 87 97]]\n",
            "\n",
            " using '-' A-B= [[-10 -20 -30]\n",
            " [-30 -40 -59]\n",
            " [-60 -79 -88]]\n"
          ]
        }
      ]
    }
  ]
}