{
  "nbformat": 4,
  "nbformat_minor": 0,
  "metadata": {
    "colab": {
      "provenance": [],
      "authorship_tag": "ABX9TyNimVBlj64tfly/ZwFObNqf",
      "include_colab_link": true
    },
    "kernelspec": {
      "name": "python3",
      "display_name": "Python 3"
    },
    "language_info": {
      "name": "python"
    }
  },
  "cells": [
    {
      "cell_type": "markdown",
      "metadata": {
        "id": "view-in-github",
        "colab_type": "text"
      },
      "source": [
        "<a href=\"https://colab.research.google.com/github/sandhya537/numpy/blob/main/numpy%20mini%20projects.ipynb\" target=\"_parent\"><img src=\"https://colab.research.google.com/assets/colab-badge.svg\" alt=\"Open In Colab\"/></a>"
      ]
    },
    {
      "cell_type": "code",
      "execution_count": null,
      "metadata": {
        "colab": {
          "base_uri": "https://localhost:8080/"
        },
        "id": "Lv1UdC_aUauh",
        "outputId": "fb0a554c-db6d-496e-aaab-4aa62f4e3dc4"
      },
      "outputs": [
        {
          "output_type": "stream",
          "name": "stdout",
          "text": [
            "displaying project 1 results\n",
            "\n",
            "multiplication [ 400 1000 1800]\n",
            "addition [50 70 90]\n",
            "subtraction [-30 -30 -30]\n",
            "division [0.25 0.4  0.5 ]\n",
            "[[10 40]\n",
            " [20 50]\n",
            " [30 60]]\n"
          ]
        }
      ],
      "source": [
        "## project 1------- (add,subtract,multiply,divide,transpose)\n",
        "\n",
        "import numpy as np\n",
        "a=[10,20,30]\n",
        "b=[40,50,60]\n",
        "c=np.array(a)\n",
        "d=np.array(b)\n",
        "print('displaying project 1 results')\n",
        "print()\n",
        "print('multiplication',np.multiply(c,d))\n",
        "print('addition',np.add(c,d))\n",
        "print('subtraction',np.subtract(c,d))\n",
        "print('division',np.divide(c,d))\n",
        "n=[[10,20,30],[40,50,60]]\n",
        "m=np.transpose(n)\n",
        "print(m)"
      ]
    },
    {
      "cell_type": "code",
      "source": [
        "## project 2 -----one week temparature analysing\n",
        "## and( calculate coldest,hottest,avg,above avg temparatures)\n",
        "\n",
        "import numpy as np\n",
        "temp=[25, 28, 30, 27, 26, 29, 31]\n",
        "a=np.array(temp)\n",
        "print()\n",
        "print('displaying project 2 result')\n",
        "print()\n",
        "print('coldest day',a.min(),'\\u00b0c')\n",
        "print('hottest day',a.max(),'\\u00b0c')\n",
        "print('avg temp',a.mean(),'\\u00b0c')\n",
        "print('above avg temp',a[a>a.mean()],'\\u00b0c')\n",
        "\n",
        "\n"
      ],
      "metadata": {
        "colab": {
          "base_uri": "https://localhost:8080/"
        },
        "id": "kFBQQf7CU38l",
        "outputId": "f7daf853-cabc-4f92-e2a5-9489ab05d295"
      },
      "execution_count": 4,
      "outputs": [
        {
          "output_type": "stream",
          "name": "stdout",
          "text": [
            "\n",
            "displaying project 2 result\n",
            "\n",
            "coldest day 25 °c\n",
            "hottest day 31 °c\n",
            "avg temp 28.0 °c\n",
            "above avg temp [30 29 31] °c\n"
          ]
        }
      ]
    }
  ]
}