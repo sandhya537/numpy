{
  "nbformat": 4,
  "nbformat_minor": 0,
  "metadata": {
    "colab": {
      "provenance": [],
      "authorship_tag": "ABX9TyPuOrDRghp8RTRb55jcmmHD",
      "include_colab_link": true
    },
    "kernelspec": {
      "name": "python3",
      "display_name": "Python 3"
    },
    "language_info": {
      "name": "python"
    }
  },
  "cells": [
    {
      "cell_type": "markdown",
      "metadata": {
        "id": "view-in-github",
        "colab_type": "text"
      },
      "source": [
        "<a href=\"https://colab.research.google.com/github/sandhya537/numpy/blob/main/%20numpy%20basics%201.ipynb\" target=\"_parent\"><img src=\"https://colab.research.google.com/assets/colab-badge.svg\" alt=\"Open In Colab\"/></a>"
      ]
    },
    {
      "cell_type": "code",
      "execution_count": 5,
      "metadata": {
        "colab": {
          "base_uri": "https://localhost:8080/"
        },
        "id": "3jKNJWW7fbiP",
        "outputId": "b1cd14ea-72fe-4eb5-cc1a-dd2efe0e58ad"
      },
      "outputs": [
        {
          "output_type": "stream",
          "name": "stdout",
          "text": [
            "[[-25   6 -16]\n",
            " [ -1 -22  11]]\n"
          ]
        }
      ],
      "source": [
        "import numpy as np\n",
        "a=[[20,40,30],[45,56,67]]\n",
        "b=[[45,34,46],[46,78,56]]\n",
        "c=np.array(a)\n",
        "d=np.array(b)\n",
        "print(np.subtract(c,d))"
      ]
    }
  ]
}