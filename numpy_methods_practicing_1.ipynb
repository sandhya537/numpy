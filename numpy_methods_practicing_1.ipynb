{
  "cells": [
    {
      "cell_type": "markdown",
      "metadata": {
        "id": "view-in-github",
        "colab_type": "text"
      },
      "source": [
        "<a href=\"https://colab.research.google.com/github/sandhya537/numpy/blob/main/numpy_methods_practicing_1.ipynb\" target=\"_parent\"><img src=\"https://colab.research.google.com/assets/colab-badge.svg\" alt=\"Open In Colab\"/></a>"
      ]
    },
    {
      "cell_type": "code",
      "execution_count": null,
      "metadata": {
        "colab": {
          "base_uri": "https://localhost:8080/"
        },
        "id": "3jKNJWW7fbiP",
        "outputId": "707ab266-af34-4fdc-eeea-b4758aa163ff"
      },
      "outputs": [
        {
          "name": "stdout",
          "output_type": "stream",
          "text": [
            "output is :\n",
            "\n",
            "20\n",
            "34\n"
          ]
        }
      ],
      "source": [
        "##----- min() method -----##\n",
        "\n",
        "import numpy as np\n",
        "a=[[20,40,30],[45,56,67]]\n",
        "b=[[45,34,46],[46,78,56]]\n",
        "c=np.array(a)\n",
        "d=np.array(b)\n",
        "print(\"output is :\")\n",
        "print()\n",
        "print(np.min(c))\n",
        "print(np.min(d))"
      ]
    },
    {
      "cell_type": "code",
      "execution_count": null,
      "metadata": {
        "colab": {
          "base_uri": "https://localhost:8080/"
        },
        "id": "UovaarAafl6I",
        "outputId": "4f21540b-aa89-4e38-aaf9-70cdd72b4c39"
      },
      "outputs": [
        {
          "name": "stdout",
          "output_type": "stream",
          "text": [
            "output is :\n",
            "\n",
            "67\n",
            "78\n"
          ]
        }
      ],
      "source": [
        "import numpy as np\n",
        "data=[[20,40,30],[45,56,67]]\n",
        "sales=[[45,34,46],[46,78,56]]\n",
        "c=np.array(data)\n",
        "d=np.array(sales)\n",
        "print(\"output is :\")\n",
        "print()\n",
        "print(np.max(c))\n",
        "print(np.max(d))"
      ]
    },
    {
      "cell_type": "code",
      "execution_count": null,
      "metadata": {
        "colab": {
          "base_uri": "https://localhost:8080/"
        },
        "id": "VadorNn_f5kz",
        "outputId": "2eea03c5-23ae-42f4-a460-ea50e9278c17"
      },
      "outputs": [
        {
          "output_type": "stream",
          "name": "stdout",
          "text": [
            "output is :\n",
            "\n",
            "258\n",
            "305\n",
            "563\n"
          ]
        }
      ],
      "source": [
        "import numpy as np\n",
        "data=[[20,40,30],[45,56,67]]\n",
        "sales=[[45,34,46],[46,78,56]]\n",
        "c=np.array(data)\n",
        "d=np.array(sales)\n",
        "print(\"output is :\")\n",
        "print()\n",
        "print(np.sum(c))\n",
        "print(np.sum(d))\n",
        "result=np.sum([c,d])\n",
        "print(result)"
      ]
    },
    {
      "cell_type": "code",
      "source": [
        "##------- zeros and ones -----------------------------------------------------------\n",
        "\n",
        "import numpy as np\n",
        "b=np.zeros((2,3),int)\n",
        "print(\"output is :\")\n",
        "print()\n",
        "print(b)\n",
        "\n",
        "import numpy as np\n",
        "a=np.ones((2,3),int)\n",
        "print(\"output is :\")\n",
        "print()\n",
        "print(a)\n",
        "\n",
        "\n",
        "\n",
        "\n"
      ],
      "metadata": {
        "colab": {
          "base_uri": "https://localhost:8080/"
        },
        "id": "8ypAk9HuwAu5",
        "outputId": "dd11bb67-afb7-4686-84ab-d725cb7f0aa1"
      },
      "execution_count": 1,
      "outputs": [
        {
          "output_type": "stream",
          "name": "stdout",
          "text": [
            "output is :\n",
            "\n",
            "[[0 0 0]\n",
            " [0 0 0]]\n",
            "output is :\n",
            "\n",
            "[[1 1 1]\n",
            " [1 1 1]]\n"
          ]
        }
      ]
    },
    {
      "cell_type": "code",
      "source": [
        "##---------- arange() ---------------------------------------------------\n",
        "\n",
        "import numpy as np\n",
        "a=np.arange(0,20,2)\n",
        "print(\"output is :\")\n",
        "print()\n",
        "print(a)"
      ],
      "metadata": {
        "colab": {
          "base_uri": "https://localhost:8080/"
        },
        "id": "JesYcPe6zlpa",
        "outputId": "95e21afa-4b9e-4b30-9ece-efdc655104c0"
      },
      "execution_count": 2,
      "outputs": [
        {
          "output_type": "stream",
          "name": "stdout",
          "text": [
            "output is :\n",
            "\n",
            "[ 0  2  4  6  8 10 12 14 16 18]\n"
          ]
        }
      ]
    },
    {
      "cell_type": "code",
      "source": [
        "##-------------linspace()-----------------------------------------------------------\n",
        "\n",
        "import numpy as np\n",
        "a=np.linspace(0,1,5)\n",
        "print(\"output is:\")\n",
        "print\n",
        "print(a)"
      ],
      "metadata": {
        "colab": {
          "base_uri": "https://localhost:8080/"
        },
        "id": "NAVf-lokze62",
        "outputId": "d25f7bce-4d8a-4f0d-f03b-61394f5451b7"
      },
      "execution_count": 4,
      "outputs": [
        {
          "output_type": "stream",
          "name": "stdout",
          "text": [
            "output is:\n",
            "[0.   0.25 0.5  0.75 1.  ]\n"
          ]
        }
      ]
    },
    {
      "cell_type": "code",
      "source": [
        "###-----------full()---------------------------------------------------------------\n",
        "\n",
        "import numpy as np\n",
        "a=np.full((2,3),6)\n",
        "print(\"output is :\")\n",
        "print()\n",
        "print(a)\n"
      ],
      "metadata": {
        "colab": {
          "base_uri": "https://localhost:8080/"
        },
        "id": "2LouTOk7zYbH",
        "outputId": "f2aa40f3-ef87-48bb-cc4c-a0c95b6d8abd"
      },
      "execution_count": 5,
      "outputs": [
        {
          "output_type": "stream",
          "name": "stdout",
          "text": [
            "output is :\n",
            "\n",
            "[[6 6 6]\n",
            " [6 6 6]]\n"
          ]
        }
      ]
    },
    {
      "cell_type": "code",
      "source": [
        "###--------eye()-------------------------------------------------------------\n",
        "\n",
        "import numpy as np\n",
        "a=np.eye(2)\n",
        "print(\"output is :\")\n",
        "print()\n",
        "print(a)"
      ],
      "metadata": {
        "colab": {
          "base_uri": "https://localhost:8080/"
        },
        "id": "3t7gIPaXzT4E",
        "outputId": "51a43f30-5e2f-4d8e-d7aa-3d0cc2c1cf65"
      },
      "execution_count": 14,
      "outputs": [
        {
          "output_type": "stream",
          "name": "stdout",
          "text": [
            "output is :\n",
            "\n",
            "[[1. 0.]\n",
            " [0. 1.]]\n"
          ]
        }
      ]
    },
    {
      "cell_type": "code",
      "source": [
        "##------------tranpose(),reshape()-------------------------------------------\n",
        "\n",
        "import numpy as np\n",
        "a=np.array([[3,4,2],[4,5,6]])\n",
        "print(\"output is:\")\n",
        "print(a)\n",
        "print()\n",
        "print(\"reshape :\",a.reshape((6,1)))\n",
        "print()\n",
        "print(\"transpose :\",np.transpose(a))"
      ],
      "metadata": {
        "colab": {
          "base_uri": "https://localhost:8080/"
        },
        "id": "97VHTfPgxm8f",
        "outputId": "52cbf8da-b336-48e6-a362-d4bf8e0d23f0"
      },
      "execution_count": 15,
      "outputs": [
        {
          "output_type": "stream",
          "name": "stdout",
          "text": [
            "output is:\n",
            "[[3 4 2]\n",
            " [4 5 6]]\n",
            "\n",
            "reshape : [[3]\n",
            " [4]\n",
            " [2]\n",
            " [4]\n",
            " [5]\n",
            " [6]]\n",
            "\n",
            "transpose : [[3 4]\n",
            " [4 5]\n",
            " [2 6]]\n"
          ]
        }
      ]
    },
    {
      "cell_type": "code",
      "source": [
        "##----------astype()--------------------------------------------------------\n",
        "\n",
        "import numpy as np\n",
        "a=np.array([[3.2,4,2.3],[4.8,5.8,6]])\n",
        "b=np.array(a.astype(int))\n",
        "print(\"output is :\")\n",
        "print()\n",
        "print(a)\n",
        "print()\n",
        "print(b)"
      ],
      "metadata": {
        "colab": {
          "base_uri": "https://localhost:8080/"
        },
        "id": "ADoAzSGbxt9x",
        "outputId": "e63927e2-abcd-47b3-b400-1ccc80a2aeee"
      },
      "execution_count": 16,
      "outputs": [
        {
          "output_type": "stream",
          "name": "stdout",
          "text": [
            "output is :\n",
            "\n",
            "[[3.2 4.  2.3]\n",
            " [4.8 5.8 6. ]]\n",
            "\n",
            "[[3 4 2]\n",
            " [4 5 6]]\n"
          ]
        }
      ]
    },
    {
      "cell_type": "code",
      "source": [
        "##----------------using index ---------------------------------------------------\n",
        "\n",
        "import numpy as np\n",
        "a=np.array([3.2,4,2.3])\n",
        "d=np.array(a[2])\n",
        "print(\"output is :\")\n",
        "print()\n",
        "print(a)\n",
        "print()\n",
        "print(\"using indexing :\",d)"
      ],
      "metadata": {
        "colab": {
          "base_uri": "https://localhost:8080/"
        },
        "id": "kWUgiPJZx0-D",
        "outputId": "741389bb-b546-411b-b696-f6486baa4778"
      },
      "execution_count": 18,
      "outputs": [
        {
          "output_type": "stream",
          "name": "stdout",
          "text": [
            "output is :\n",
            "\n",
            "[3.2 4.  2.3]\n",
            "\n",
            "using indexing : 2.3\n"
          ]
        }
      ]
    },
    {
      "cell_type": "code",
      "source": [
        "##------------------slicing indexing-, fancy indexing-------------------------------------------\n",
        "\n",
        "import numpy as np\n",
        "a=np.array([[1,2,3],[5,6,7],[8,9,10]])\n",
        "print(\"output is :\")\n",
        "print(a)\n",
        "print( \"slicing :\",a[:,2:3])\n",
        "\n",
        "import numpy as np\n",
        "a=np.array([[1,2,3],[5,6,7]])\n",
        "print()\n",
        "print(\"output is :\")\n",
        "print(a)\n",
        "print(\"slicing :\",a[:,0:1])\n",
        "\n",
        "import numpy as np\n",
        "a=np.array([1,2,3,4,5,6,7,8,9])\n",
        "print()\n",
        "print(\"output is :\")\n",
        "print(a)\n",
        "print(\"fancy indexing :\",a[[3,4,6]])\n"
      ],
      "metadata": {
        "colab": {
          "base_uri": "https://localhost:8080/"
        },
        "id": "0yKJvGh1yEdp",
        "outputId": "52c33edb-05a0-492e-e0f1-cc76bb79847d"
      },
      "execution_count": 20,
      "outputs": [
        {
          "output_type": "stream",
          "name": "stdout",
          "text": [
            "output is :\n",
            "[[ 1  2  3]\n",
            " [ 5  6  7]\n",
            " [ 8  9 10]]\n",
            "slicing : [[ 3]\n",
            " [ 7]\n",
            " [10]]\n",
            "\n",
            "output is :\n",
            "[[1 2 3]\n",
            " [5 6 7]]\n",
            "slicing : [[1]\n",
            " [5]]\n",
            "\n",
            "output is :\n",
            "[1 2 3 4 5 6 7 8 9]\n",
            "fancy indexing : [4 5 7]\n"
          ]
        }
      ]
    },
    {
      "cell_type": "code",
      "source": [
        "##--------------mask()--------------------------------------------------------\n",
        "\n",
        "import numpy as np\n",
        "a=np.array([[1,2,3,4],[5,6,7,8],[9,10,11,12]])\n",
        "print(\"output is :\")\n",
        "print(a)\n",
        "print()\n",
        "mask=a>7\n",
        "print(\"mask :\",a[mask])"
      ],
      "metadata": {
        "colab": {
          "base_uri": "https://localhost:8080/"
        },
        "id": "dm4GWYLtyK3I",
        "outputId": "b80fb054-b2f2-4323-fd74-e3b7ea85ce74"
      },
      "execution_count": 22,
      "outputs": [
        {
          "output_type": "stream",
          "name": "stdout",
          "text": [
            "output is :\n",
            "[[ 1  2  3  4]\n",
            " [ 5  6  7  8]\n",
            " [ 9 10 11 12]]\n",
            "\n",
            "mask : [ 8  9 10 11 12]\n"
          ]
        }
      ]
    },
    {
      "cell_type": "code",
      "source": [
        "##----------------append(),insert()-------------------------------------------------\n",
        "              ##-delete()---------\n",
        "\n",
        "import numpy as np\n",
        "a=np.array([1,2,3,4,5])\n",
        "b=np.append(a,6)\n",
        "c=np.insert(a,2,7)\n",
        "d=np.insert(b,2,7)\n",
        "print(\"output is :\")\n",
        "print(a)\n",
        "print()\n",
        "print(\"append :\",b)\n",
        "print()\n",
        "print(\"output is :\")\n",
        "print(a)\n",
        "print(\"insert :\",c)\n",
        "print(\"insert :\",d)\n",
        "import numpy as np\n",
        "a=np.array([5,8,1,7])\n",
        "b=np.delete(a,1)\n",
        "print()\n",
        "print(\"output is :\")\n",
        "print(a)\n",
        "print(\"delete :\",b)\n",
        "import numpy as np\n",
        "a=np.array([[1,2,3],[5,6,7]])\n",
        "b=np.delete(a,2,axis=1)\n",
        "print(\"delete :\",b)"
      ],
      "metadata": {
        "colab": {
          "base_uri": "https://localhost:8080/"
        },
        "id": "DBAaveyvyTVK",
        "outputId": "78dde606-c4d0-4035-db93-617884b942d8"
      },
      "execution_count": 26,
      "outputs": [
        {
          "output_type": "stream",
          "name": "stdout",
          "text": [
            "output is :\n",
            "[1 2 3 4 5]\n",
            "\n",
            "append : [1 2 3 4 5 6]\n",
            "\n",
            "output is :\n",
            "[1 2 3 4 5]\n",
            "insert : [1 2 7 3 4 5]\n",
            "insert : [1 2 7 3 4 5 6]\n",
            "\n",
            "output is :\n",
            "[5 8 1 7]\n",
            "delete : [5 1 7]\n",
            "delete : [[1 2]\n",
            " [5 6]]\n"
          ]
        }
      ]
    },
    {
      "cell_type": "code",
      "source": [
        "##------vstack(),hstack()-----------------------------------------------------------\n",
        "\n",
        "import numpy as np\n",
        "a=np.array([[1,2,3],[4,5,6]])\n",
        "b=np.array([[14,15,16],[7,8,9]])\n",
        "c=np.vstack((a,b))\n",
        "d=np.hstack((a,b))\n",
        "print(\"output is :\")\n",
        "print(a)\n",
        "print(b)\n",
        "print()\n",
        "print(\"vstack :\",c)\n",
        "print()\n",
        "print(\"output is :\")\n",
        "print(a)\n",
        "print(b)\n",
        "print()\n",
        "print(\"hstack :\",d)\n"
      ],
      "metadata": {
        "colab": {
          "base_uri": "https://localhost:8080/"
        },
        "id": "LWXA3JEyyaLh",
        "outputId": "cbf67b6d-2208-4df2-8315-876a90dede69"
      },
      "execution_count": 30,
      "outputs": [
        {
          "output_type": "stream",
          "name": "stdout",
          "text": [
            "output is :\n",
            "[[1 2 3]\n",
            " [4 5 6]]\n",
            "[[14 15 16]\n",
            " [ 7  8  9]]\n",
            "\n",
            "vstack : [[ 1  2  3]\n",
            " [ 4  5  6]\n",
            " [14 15 16]\n",
            " [ 7  8  9]]\n",
            "\n",
            "output is :\n",
            "[[1 2 3]\n",
            " [4 5 6]]\n",
            "[[14 15 16]\n",
            " [ 7  8  9]]\n",
            "\n",
            "hstack : [[ 1  2  3 14 15 16]\n",
            " [ 4  5  6  7  8  9]]\n"
          ]
        }
      ]
    },
    {
      "cell_type": "code",
      "source": [
        "##-------spilt()--------------------------------------------------------------------\n",
        "\n",
        "import numpy as np\n",
        "a=np.array([1,2,3,4,5,6,7,8,9,10,11,12])\n",
        "b=np.split(a,4)\n",
        "print(\"output is :\")\n",
        "print(a)\n",
        "print()\n",
        "print(\"split :\",b)\n",
        "\n",
        "import numpy as np\n",
        "a=np.array([1,2,3,4,5,6])\n",
        "c=np.array([7,8,9,10,11,12])\n",
        "b=np.mean([a,c])\n",
        "print()\n",
        "print(\"output is :\")\n",
        "print(a)\n",
        "print(c)\n",
        "print(\"mean :\",b)"
      ],
      "metadata": {
        "colab": {
          "base_uri": "https://localhost:8080/"
        },
        "id": "mel0CCvUykBB",
        "outputId": "041aa72b-0274-46a4-9a1b-d0e1f874b590"
      },
      "execution_count": 32,
      "outputs": [
        {
          "output_type": "stream",
          "name": "stdout",
          "text": [
            "output is :\n",
            "[ 1  2  3  4  5  6  7  8  9 10 11 12]\n",
            "\n",
            "split : [array([1, 2, 3]), array([4, 5, 6]), array([7, 8, 9]), array([10, 11, 12])]\n",
            "\n",
            "output is :\n",
            "[1 2 3 4 5 6]\n",
            "[ 7  8  9 10 11 12]\n",
            "mean : 6.5\n"
          ]
        }
      ]
    },
    {
      "cell_type": "code",
      "source": [
        "###-------------copy() ,view()------------------------------------------------------\n",
        "\n",
        "import numpy as np\n",
        "a=np.array([1,2,3,4,5,6])\n",
        "c=np.array([7,8,9,10,11,12])\n",
        "b=np.copy([a,c])\n",
        "b[1,0]=20\n",
        "print(\"output is:\")\n",
        "print([a])\n",
        "print([c])\n",
        "print()\n",
        "print(\"copy :\",b)\n",
        "import numpy as np\n",
        "a=np.array([1,2,3,4,5,6])\n",
        "b=a.view()\n",
        "b[1]=20\n",
        "print()\n",
        "print(\"output is :\")\n",
        "print(a)\n",
        "print(\"view :\",b)"
      ],
      "metadata": {
        "colab": {
          "base_uri": "https://localhost:8080/"
        },
        "id": "LQ9NyL0myq_O",
        "outputId": "2be2a08e-954b-4b52-f2f7-c9b3d07cb5d1"
      },
      "execution_count": 33,
      "outputs": [
        {
          "output_type": "stream",
          "name": "stdout",
          "text": [
            "output is:\n",
            "[array([1, 2, 3, 4, 5, 6])]\n",
            "[array([ 7,  8,  9, 10, 11, 12])]\n",
            "\n",
            "copy : [[ 1  2  3  4  5  6]\n",
            " [20  8  9 10 11 12]]\n",
            "\n",
            "output is :\n",
            "[ 1 20  3  4  5  6]\n",
            "view : [ 1 20  3  4  5  6]\n"
          ]
        }
      ]
    }
  ],
  "metadata": {
    "colab": {
      "provenance": [],
      "authorship_tag": "ABX9TyOygfIyCkTJCTA7DRWi5oHx",
      "include_colab_link": true
    },
    "kernelspec": {
      "display_name": "Python 3",
      "name": "python3"
    },
    "language_info": {
      "name": "python"
    }
  },
  "nbformat": 4,
  "nbformat_minor": 0
}